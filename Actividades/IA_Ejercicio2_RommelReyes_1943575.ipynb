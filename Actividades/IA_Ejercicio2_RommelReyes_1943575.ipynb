{
  "nbformat": 4,
  "nbformat_minor": 0,
  "metadata": {
    "colab": {
      "name": "IA_Ejercicio2_RommelReyes_1943575.ipynb",
      "provenance": []
    },
    "kernelspec": {
      "name": "python3",
      "display_name": "Python 3"
    },
    "language_info": {
      "name": "python"
    }
  },
  "cells": [
    {
      "cell_type": "markdown",
      "metadata": {
        "id": "sIc5dOCweKON"
      },
      "source": [
        "Actividad 3.- Ejercicios Introducciòn Python, 2da parte\n",
        "Rommel Emiliano Reyes Equihua\n",
        "1943575\n",
        "Martes N4 - N6"
      ]
    },
    {
      "cell_type": "markdown",
      "metadata": {
        "id": "2PWrK2IQb6AM"
      },
      "source": [
        "# Ejercicio 1"
      ]
    },
    {
      "cell_type": "code",
      "metadata": {
        "id": "a8cM0K5JnBiu",
        "colab": {
          "base_uri": "https://localhost:8080/"
        },
        "outputId": "cff78b5f-ceb0-48ae-e216-34851a06f2fc"
      },
      "source": [
        "print(\"¿Cuáles son tu comidas favoritas? Piensa en 7 platillos diferentes y escríbelos.\")\n",
        "dish = [input(\"a) \"),input(\"b) \"),input(\"c) \"),input(\"d) \"),input(\"e) \"),input(\"f) \"),input(\"g) \"),]"
      ],
      "execution_count": 15,
      "outputs": [
        {
          "name": "stdout",
          "output_type": "stream",
          "text": [
            "¿Cuáles son tu comidas favoritas? Piensa en 7 platillos diferentes y escríbelos.\n",
            "a) la pizza\n",
            "b) el sushi\n",
            "c) tacos\n",
            "d) hamburguesas\n",
            "e) el pozole\n",
            "f) la sopa\n",
            "g) las enchiladas\n"
          ]
        }
      ]
    },
    {
      "cell_type": "code",
      "metadata": {
        "id": "JxLo7709nDm9",
        "colab": {
          "base_uri": "https://localhost:8080/"
        },
        "outputId": "0962e96b-9200-4640-c292-2bc3b9882357"
      },
      "source": [
        "#Ejercicio 1.1\n",
        "print(\"Tus comidas favoritas son:\")\n",
        "for x in dish:\n",
        "  print(x)"
      ],
      "execution_count": 16,
      "outputs": [
        {
          "output_type": "stream",
          "name": "stdout",
          "text": [
            "Tus comidas favoritas son:\n",
            "la pizza\n",
            "el sushi\n",
            "tacos\n",
            "hamburguesas\n",
            "el pozole\n",
            "la sopa\n",
            "las enchiladas\n"
          ]
        }
      ]
    },
    {
      "cell_type": "code",
      "metadata": {
        "id": "4Ao75rolnFkS",
        "colab": {
          "base_uri": "https://localhost:8080/"
        },
        "outputId": "fce7268e-f2b4-4ac1-c2b6-90beebbe9098"
      },
      "source": [
        "#Ejercicio 1.2\n",
        "y = \"Una de mis comidas favoritas es\"\n",
        "for x in dish:\n",
        "  print(y, x)"
      ],
      "execution_count": 17,
      "outputs": [
        {
          "output_type": "stream",
          "name": "stdout",
          "text": [
            "Una de mis comidas favoritas es la pizza\n",
            "Una de mis comidas favoritas es el sushi\n",
            "Una de mis comidas favoritas es tacos\n",
            "Una de mis comidas favoritas es hamburguesas\n",
            "Una de mis comidas favoritas es el pozole\n",
            "Una de mis comidas favoritas es la sopa\n",
            "Una de mis comidas favoritas es las enchiladas\n"
          ]
        }
      ]
    },
    {
      "cell_type": "markdown",
      "metadata": {
        "id": "IcsUh3itbtQ6"
      },
      "source": [
        "# Ejercicio 2"
      ]
    },
    {
      "cell_type": "code",
      "metadata": {
        "colab": {
          "base_uri": "https://localhost:8080/"
        },
        "id": "mwc8JAxabd8W",
        "outputId": "e6eccf06-4e6a-4380-de8d-06a557255675"
      },
      "source": [
        "#Ejercicio 2\n",
        "print(\"¡Bienvenido a piedra, papel o tijeras! Escriba el número dependiendo de su elección.\\n1 para piedra, 2 para papel, 3 para tijeras:\")\n",
        "J1 = int(input(\"Jugador 1: \"))\n",
        "J2 = int(input(\"Jugador 2: \"))\n",
        "if J1 == J2:\n",
        "  print(\"Empate\")\n",
        "elif J1 == 1:\n",
        "  if J2 == 2:\n",
        "    print(\"¡Jugador 2 gana!\")\n",
        "  else:\n",
        "    print(\"¡Jugador 1 gana!\")\n",
        "elif J1 == 2:\n",
        "  if J2 == 1:\n",
        "    print(\"¡Jugador 1 gana!\")\n",
        "  else:\n",
        "    print(\"¡Jugador 2 gana!\")\n",
        "elif J1 == 3:\n",
        "  if J2 == 1:\n",
        "    print(\"¡Jugador 2 gana!\")\n",
        "  else:\n",
        "    print(\"¡Jugador 1 gana!\")"
      ],
      "execution_count": 19,
      "outputs": [
        {
          "output_type": "stream",
          "name": "stdout",
          "text": [
            "¡Bienvenido a piedra, papel o tijeras! Escriba el número dependiendo de su elección.\n",
            "1 para piedra, 2 para papel, 3 para tijeras:\n",
            "Jugador 1: 2\n",
            "Jugador 2: 3\n",
            "¡Jugador 2 gana!\n"
          ]
        }
      ]
    },
    {
      "cell_type": "markdown",
      "metadata": {
        "id": "RnUM4bbLb0Wp"
      },
      "source": [
        "# Ejercicio 3"
      ]
    },
    {
      "cell_type": "code",
      "metadata": {
        "id": "aAUfU7-AVCTe",
        "colab": {
          "base_uri": "https://localhost:8080/"
        },
        "outputId": "38113c11-8d0a-4ded-8541-06fcf7a78cd1"
      },
      "source": [
        "#Ejercicio 3\n",
        "sec = [1,2,3,4,5,6]\n",
        "i = 6\n",
        "while i >= 1:\n",
        "  print(sec[:i])\n",
        "  i -= 1\n",
        "i = 2\n",
        "while i <= 6:\n",
        "  print(sec[0:i])\n",
        "  i += 1"
      ],
      "execution_count": 14,
      "outputs": [
        {
          "output_type": "stream",
          "name": "stdout",
          "text": [
            "[1, 2, 3, 4, 5, 6]\n",
            "[1, 2, 3, 4, 5]\n",
            "[1, 2, 3, 4]\n",
            "[1, 2, 3]\n",
            "[1, 2]\n",
            "[1]\n",
            "[1, 2]\n",
            "[1, 2, 3]\n",
            "[1, 2, 3, 4]\n",
            "[1, 2, 3, 4, 5]\n",
            "[1, 2, 3, 4, 5, 6]\n"
          ]
        }
      ]
    }
  ]
}