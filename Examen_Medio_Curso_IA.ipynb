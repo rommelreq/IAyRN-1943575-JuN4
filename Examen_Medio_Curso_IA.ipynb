{
  "nbformat": 4,
  "nbformat_minor": 0,
  "metadata": {
    "colab": {
      "name": "Examen-Medio_Curso-IA.ipynb",
      "provenance": [],
      "toc_visible": true,
      "authorship_tag": "ABX9TyO9sZx29tTmmJdxm+HJu3lP",
      "include_colab_link": true
    },
    "kernelspec": {
      "name": "python3",
      "display_name": "Python 3"
    },
    "language_info": {
      "name": "python"
    }
  },
  "cells": [
    {
      "cell_type": "markdown",
      "metadata": {
        "id": "view-in-github",
        "colab_type": "text"
      },
      "source": [
        "<a href=\"https://colab.research.google.com/github/rommelreq/IAyRN-1943575-JuN4/blob/main/Examen_Medio_Curso_IA.ipynb\" target=\"_parent\"><img src=\"https://colab.research.google.com/assets/colab-badge.svg\" alt=\"Open In Colab\"/></a>"
      ]
    },
    {
      "cell_type": "markdown",
      "metadata": {
        "id": "rWTUhY3d44eE"
      },
      "source": [
        "# Ejercicio 1.1 "
      ]
    },
    {
      "cell_type": "code",
      "metadata": {
        "colab": {
          "base_uri": "https://localhost:8080/"
        },
        "id": "rsuaoDn94OTe",
        "outputId": "56bbab5c-24c7-4b8b-8b15-099d988ef101"
      },
      "source": [
        "num = int(input(\"Ingrese cualquier número positivo: \"))\n",
        "i = 1\n",
        "suma = 0\n",
        "\n",
        "while i <= num:\n",
        "  suma = suma + i\n",
        "  i += 1\n",
        "print(suma)"
      ],
      "execution_count": 10,
      "outputs": [
        {
          "output_type": "stream",
          "name": "stdout",
          "text": [
            "Ingrese cualquier número positivo: 3\n",
            "6\n"
          ]
        }
      ]
    },
    {
      "cell_type": "markdown",
      "metadata": {
        "id": "zUXfvAKS6tjY"
      },
      "source": [
        "# Ejercicio 1.2"
      ]
    },
    {
      "cell_type": "code",
      "metadata": {
        "colab": {
          "base_uri": "https://localhost:8080/"
        },
        "id": "fhkomzZw6ySR",
        "outputId": "eca68421-3394-486b-a5e8-bc85956f217a"
      },
      "source": [
        "print(\"Ingresa un numero inicial y un numero final para la lista.\")\n",
        "a = int(input(\"a) \"))\n",
        "b = int(input(\"b) \"))\n",
        "for x in range(a, b, 1):\n",
        "  if x % 2 == 0:\n",
        "    print(x)"
      ],
      "execution_count": 22,
      "outputs": [
        {
          "output_type": "stream",
          "name": "stdout",
          "text": [
            "Ingresa un numero inicial y un numero final para la lista.\n",
            "a) 3\n",
            "b) 11\n",
            "4\n",
            "6\n",
            "8\n",
            "10\n"
          ]
        }
      ]
    }
  ]
}