{
  "nbformat": 4,
  "nbformat_minor": 0,
  "metadata": {
    "colab": {
      "name": "IA_Ejercicio1_RommelReyes_1943575.ipynb",
      "provenance": [],
      "collapsed_sections": [],
      "authorship_tag": "ABX9TyNcmZLElcyBhksbIi8fDFgW",
      "include_colab_link": true
    },
    "kernelspec": {
      "name": "python3",
      "display_name": "Python 3"
    },
    "language_info": {
      "name": "python"
    }
  },
  "cells": [
    {
      "cell_type": "markdown",
      "metadata": {
        "id": "view-in-github",
        "colab_type": "text"
      },
      "source": [
        "<a href=\"https://colab.research.google.com/github/rommelreq/IAyRN-1943575-JuN4/blob/main/IA_Ejercicio1_RommelReyes_1943575.ipynb\" target=\"_parent\"><img src=\"https://colab.research.google.com/assets/colab-badge.svg\" alt=\"Open In Colab\"/></a>"
      ]
    },
    {
      "cell_type": "markdown",
      "metadata": {
        "id": "tnUZ0JM2WhDX"
      },
      "source": [
        "# Actividad 2.- Ejercicios Introducción a Phyton"
      ]
    },
    {
      "cell_type": "markdown",
      "metadata": {
        "id": "eeamKRvjiQb1"
      },
      "source": [
        "Rommel Emiliano Reyes Equihua"
      ]
    },
    {
      "cell_type": "markdown",
      "metadata": {
        "id": "GA5XfCiJiTsl"
      },
      "source": [
        "1943575"
      ]
    },
    {
      "cell_type": "markdown",
      "metadata": {
        "id": "YSCQt4GsiZm2"
      },
      "source": [
        "Martes N4 - N6"
      ]
    },
    {
      "cell_type": "markdown",
      "metadata": {
        "id": "gqakAtDgeGHJ"
      },
      "source": [
        "# Ejercicio 1\n"
      ]
    },
    {
      "cell_type": "code",
      "metadata": {
        "id": "QJXMDtM9VMxx",
        "colab": {
          "base_uri": "https://localhost:8080/"
        },
        "outputId": "b168faae-9847-4f05-b83f-2c4d3a00c67c"
      },
      "source": [
        "nom = input(\"Escriba su nombre: \")"
      ],
      "execution_count": null,
      "outputs": [
        {
          "name": "stdout",
          "output_type": "stream",
          "text": [
            "Escriba su nombre: Rommel Emiliano Reyes Equihua\n"
          ]
        }
      ]
    },
    {
      "cell_type": "code",
      "metadata": {
        "id": "fhJM0rqGVRyc",
        "colab": {
          "base_uri": "https://localhost:8080/"
        },
        "outputId": "bbbef1e5-c4df-4544-9edd-8ad2a57a03db"
      },
      "source": [
        "age = input(\"Ingrese su edad con números: \")"
      ],
      "execution_count": null,
      "outputs": [
        {
          "name": "stdout",
          "output_type": "stream",
          "text": [
            "Ingrese su edad con números: 20\n"
          ]
        }
      ]
    },
    {
      "cell_type": "code",
      "metadata": {
        "id": "HHSHb_f3VT-9",
        "colab": {
          "base_uri": "https://localhost:8080/"
        },
        "outputId": "46aee1b2-a8b6-4f22-cdf6-74f5df253b8e"
      },
      "source": [
        "ff = input(\"Escriba su frase favorita: \")"
      ],
      "execution_count": null,
      "outputs": [
        {
          "name": "stdout",
          "output_type": "stream",
          "text": [
            "Escriba su frase favorita: La clase de Inteligencia Artifical es la mejor\n"
          ]
        }
      ]
    },
    {
      "cell_type": "code",
      "metadata": {
        "id": "2wRVYg1CVXOi",
        "colab": {
          "base_uri": "https://localhost:8080/"
        },
        "outputId": "6f4b973a-44a8-4f15-a6e7-e1d04ea1ad77"
      },
      "source": [
        "autor = input(\"¿Quién es el autor de dicha frase? \")"
      ],
      "execution_count": null,
      "outputs": [
        {
          "name": "stdout",
          "output_type": "stream",
          "text": [
            "¿Quién es el autor de dicha frase? Ing. Daniel Isaías López\n"
          ]
        }
      ]
    },
    {
      "cell_type": "code",
      "metadata": {
        "id": "18Ke1A8jVc4_",
        "colab": {
          "base_uri": "https://localhost:8080/"
        },
        "outputId": "e8bfa252-2a1e-4141-f528-0daddf242b0e"
      },
      "source": [
        "print(f\"Me llamo {nom} , tengo {age} años.\\nMi frase preferida es '{ff}', dicha por {autor}'\")"
      ],
      "execution_count": null,
      "outputs": [
        {
          "output_type": "stream",
          "name": "stdout",
          "text": [
            "Me llamo Rommel Emiliano Reyes Equihua , tengo 20 años.\n",
            "Mi frase preferida es 'La clase de Inteligencia Artifical es la mejor', dicha por Ing. Daniel Isaías López'\n"
          ]
        }
      ]
    },
    {
      "cell_type": "markdown",
      "metadata": {
        "id": "3c2merc-ePWE"
      },
      "source": [
        "# Ejercicio 2"
      ]
    },
    {
      "cell_type": "code",
      "metadata": {
        "colab": {
          "base_uri": "https://localhost:8080/"
        },
        "id": "FBbvyzgmbMpu",
        "outputId": "e077bee7-f6d6-4e63-a806-d1c54fa099b5"
      },
      "source": [
        "print(\"Ingrese un par de números enteros, uno por uno\")\n",
        "a = int(input(\"a: \"))\n",
        "b = int(input(\"b: \"))"
      ],
      "execution_count": null,
      "outputs": [
        {
          "name": "stdout",
          "output_type": "stream",
          "text": [
            "Ingrese un par de números enteros, uno por uno\n",
            "a: 38\n",
            "b: 14\n"
          ]
        }
      ]
    },
    {
      "cell_type": "code",
      "metadata": {
        "colab": {
          "base_uri": "https://localhost:8080/"
        },
        "id": "8dufbZU9Ybh0",
        "outputId": "a06fb660-7eb7-4c85-877e-a05c9ba63786"
      },
      "source": [
        "print(\"Ingrese un par de números flotantes, uno por uno\")\n",
        "c = float(input(\"c: \"))\n",
        "d = float(input(\"d: \"))"
      ],
      "execution_count": null,
      "outputs": [
        {
          "name": "stdout",
          "output_type": "stream",
          "text": [
            "Ingrese un par de números flotantes, uno por uno\n",
            "c: 20.8\n",
            "d: 31.3\n"
          ]
        }
      ]
    },
    {
      "cell_type": "code",
      "metadata": {
        "colab": {
          "base_uri": "https://localhost:8080/"
        },
        "id": "uPUQWvQibIMa",
        "outputId": "945b74fa-4fd3-495b-c244-b182330e8629"
      },
      "source": [
        "# operación suma\n",
        "suma1 = a + b\n",
        "suma2 = c + d\n",
        "print(f\"El resultado de {a} + {b} = {suma1}\")\n",
        "print(f\"El resultado de {c} + {d} = {suma2}\")"
      ],
      "execution_count": null,
      "outputs": [
        {
          "output_type": "stream",
          "name": "stdout",
          "text": [
            "El resultado de 38 + 14 = 52\n",
            "El resultado de 20.8 + 31.3 = 52.1\n"
          ]
        }
      ]
    },
    {
      "cell_type": "code",
      "metadata": {
        "colab": {
          "base_uri": "https://localhost:8080/"
        },
        "id": "wblOl287biII",
        "outputId": "eda956ae-8722-4d6e-c0aa-fae294aaf5f4"
      },
      "source": [
        "# operación resta\n",
        "resta1 = a - b\n",
        "resta2 = c - d\n",
        "print(f\"El resultado de {a} - {b} = {resta1}\")\n",
        "print(f\"El resultado de {c} - {d} = {resta2}\")"
      ],
      "execution_count": null,
      "outputs": [
        {
          "output_type": "stream",
          "name": "stdout",
          "text": [
            "El resultado de 38 - 14 = 24\n",
            "El resultado de 20.8 - 31.3 = -10.5\n"
          ]
        }
      ]
    },
    {
      "cell_type": "code",
      "metadata": {
        "colab": {
          "base_uri": "https://localhost:8080/"
        },
        "id": "NSJKXKWVbwHC",
        "outputId": "6eb2f2ef-02cc-44ae-e4ed-a4fc9cde7772"
      },
      "source": [
        "# operación multipliación\n",
        "mult1 = a * b\n",
        "mult2 = c * d\n",
        "print(f\"El resultado de {a} x {b} = {mult1}\")\n",
        "print(f\"El resultado de {c} x {d} = {mult2}\")"
      ],
      "execution_count": null,
      "outputs": [
        {
          "output_type": "stream",
          "name": "stdout",
          "text": [
            "El resultado de 38 x 14 = 532\n",
            "El resultado de 20.8 x 31.3 = 651.0400000000001\n"
          ]
        }
      ]
    },
    {
      "cell_type": "code",
      "metadata": {
        "colab": {
          "base_uri": "https://localhost:8080/"
        },
        "id": "mZ72SRjkb8Mw",
        "outputId": "73f1ea0b-39c3-48f9-ad08-eb23270b3d68"
      },
      "source": [
        "# operación división\n",
        "div1 = a / b\n",
        "div2 = c / d\n",
        "print(f\"El resultado de {a} entre {b} = {div1}\")\n",
        "print(f\"El resultado de {c} entre {d} = {div2}\")"
      ],
      "execution_count": null,
      "outputs": [
        {
          "output_type": "stream",
          "name": "stdout",
          "text": [
            "El resultado de 38 entre 14 = 2.7142857142857144\n",
            "El resultado de 20.8 entre 31.3 = 0.6645367412140575\n"
          ]
        }
      ]
    },
    {
      "cell_type": "markdown",
      "metadata": {
        "id": "QP20PkSueawn"
      },
      "source": [
        "# Ejercicio 3"
      ]
    },
    {
      "cell_type": "code",
      "metadata": {
        "colab": {
          "base_uri": "https://localhost:8080/"
        },
        "id": "1DxLKRKTepck",
        "outputId": "d2ca3394-faa5-4abb-f143-382ae78eb51a"
      },
      "source": [
        "# Entrada de datos para comparar\n",
        "x = float(input(\"Ingrese cualquier número: \"))\n",
        "y = float(input(\"Ingrese otro número: \"))"
      ],
      "execution_count": null,
      "outputs": [
        {
          "name": "stdout",
          "output_type": "stream",
          "text": [
            "Ingrese cualquier número: 15\n",
            "Ingrese otro número: 105\n"
          ]
        }
      ]
    },
    {
      "cell_type": "code",
      "metadata": {
        "colab": {
          "base_uri": "https://localhost:8080/"
        },
        "id": "9BpZ6a5Mac9_",
        "outputId": "92fb81ce-8018-40c8-9afa-1a71d1517241"
      },
      "source": [
        "# and\n",
        "print(f\"¿Ambos números son positivos? {x > 0 and y > 0}\")\n",
        "print(f\"¿Ambos son menores a 100? {x < 100 and y < 100}\")"
      ],
      "execution_count": null,
      "outputs": [
        {
          "output_type": "stream",
          "name": "stdout",
          "text": [
            "¿Ambos números son positivos? True\n",
            "¿Ambos son menores a 100? False\n"
          ]
        }
      ]
    },
    {
      "cell_type": "code",
      "metadata": {
        "colab": {
          "base_uri": "https://localhost:8080/"
        },
        "id": "o3dopwf4cgnZ",
        "outputId": "a7c44d55-0720-4246-f646-d2233c09a486"
      },
      "source": [
        "# or\n",
        "print(f\"¿Alguno es par? {(x % 2 == 0) or (y % 2 == 0)}\")\n",
        "print(f\"¿Alguno es múltiplo de otro? {(x % y == 0.0) or (y % x == 0.0)}\")"
      ],
      "execution_count": null,
      "outputs": [
        {
          "output_type": "stream",
          "name": "stdout",
          "text": [
            "¿Alguno es par? False\n",
            "¿Alguno es múltiplo de otro? True\n"
          ]
        }
      ]
    },
    {
      "cell_type": "code",
      "metadata": {
        "colab": {
          "base_uri": "https://localhost:8080/"
        },
        "id": "T49Cde3xd35n",
        "outputId": "df60918d-e82f-413c-dc06-6c0721ffca6c"
      },
      "source": [
        "# not\n",
        "print(f\"¿Son números diferentes? {not (x == y)}\")\n",
        "print(f\"¿El segundo es mayor que el primero? {not (x > y)}\")"
      ],
      "execution_count": null,
      "outputs": [
        {
          "output_type": "stream",
          "name": "stdout",
          "text": [
            "¿Son números diferentes? True\n",
            "¿El segundo es mayor que el primero? True\n"
          ]
        }
      ]
    }
  ]
}